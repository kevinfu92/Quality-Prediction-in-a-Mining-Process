{
 "cells": [
  {
   "cell_type": "markdown",
   "id": "16afdfde",
   "metadata": {},
   "source": [
    "# Goal\n",
    "The main goal is to use this data to predict how much impurity is in the ore concentrate. As this impurity is measured every hour, if we can predict how much silica (impurity) is in the ore concentrate, we can help the engineers, giving them early information to take actions (empowering!). Hence, they will be able to take corrective actions in advance (reduce impurity, if it is the case) and also help the environment (reducing the amount of ore that goes to tailings as you reduce silica in the ore concentrate).\n",
    "\n",
    "# Inspiration\n",
    "- Is it possible to predict % Silica Concentrate every minute?\n",
    "- How many steps (hours) ahead can we predict % Silica in Concentrate? This would help engineers to act in predictive and optimized way, mitigatin the % of iron that could have gone to tailings.\n",
    "- Is it possible to predict % Silica in Concentrate whitout using % Iron Concentrate column (as they are highly correlated)?\n",
    "\n",
    "## Content\n",
    "Column **1** shows time and date range (from march of 2017 until september of 2017). Some columns were sampled every 20 second. Others were sampled on a hourly base.<br>\n",
    "Columns **2-3** are quality measures of the iron ore pulp right before it is fed into the flotation plant.<br>\n",
    "Column **4-8** are the most important variables that impact in the ore quality in the end of the process. <br>\n",
    "Columns **9-22**, we can see process data (level and air flow inside the flotation columns, which also impact in ore quality. <br>\n",
    "Columns **23-24** are the final iron ore pulp quality measurement from the lab.<br>\n",
    "\n",
    "Target is to predict the column 25, which is the % of silica in the iron ore concentrate.\n",
    "\n",
    "### Data Source\n",
    "https://www.kaggle.com/datasets/edumagalhaes/quality-prediction-in-a-mining-process\n"
   ]
  },
  {
   "cell_type": "markdown",
   "id": "f8fd7f32",
   "metadata": {},
   "source": [
    "# Loading and Cleaning Data"
   ]
  },
  {
   "cell_type": "code",
   "execution_count": 1,
   "id": "a9f01427",
   "metadata": {},
   "outputs": [],
   "source": [
    "import numpy as np\n",
    "import pandas as pd\n",
    "import matplotlib.pyplot as plt"
   ]
  },
  {
   "cell_type": "code",
   "execution_count": 2,
   "id": "3a524da4",
   "metadata": {},
   "outputs": [],
   "source": [
    "data = pd.read_csv('MiningProcess_Flotation_Plant_Database.csv')\n",
    "df = data.copy()"
   ]
  },
  {
   "cell_type": "code",
   "execution_count": 3,
   "id": "9cddaefa",
   "metadata": {},
   "outputs": [
    {
     "data": {
      "text/html": [
       "<div>\n",
       "<style scoped>\n",
       "    .dataframe tbody tr th:only-of-type {\n",
       "        vertical-align: middle;\n",
       "    }\n",
       "\n",
       "    .dataframe tbody tr th {\n",
       "        vertical-align: top;\n",
       "    }\n",
       "\n",
       "    .dataframe thead th {\n",
       "        text-align: right;\n",
       "    }\n",
       "</style>\n",
       "<table border=\"1\" class=\"dataframe\">\n",
       "  <thead>\n",
       "    <tr style=\"text-align: right;\">\n",
       "      <th></th>\n",
       "      <th>date</th>\n",
       "      <th>% Iron Feed</th>\n",
       "      <th>% Silica Feed</th>\n",
       "      <th>Starch Flow</th>\n",
       "      <th>Amina Flow</th>\n",
       "      <th>Ore Pulp Flow</th>\n",
       "      <th>Ore Pulp pH</th>\n",
       "      <th>Ore Pulp Density</th>\n",
       "      <th>Flotation Column 01 Air Flow</th>\n",
       "      <th>Flotation Column 02 Air Flow</th>\n",
       "      <th>...</th>\n",
       "      <th>Flotation Column 07 Air Flow</th>\n",
       "      <th>Flotation Column 01 Level</th>\n",
       "      <th>Flotation Column 02 Level</th>\n",
       "      <th>Flotation Column 03 Level</th>\n",
       "      <th>Flotation Column 04 Level</th>\n",
       "      <th>Flotation Column 05 Level</th>\n",
       "      <th>Flotation Column 06 Level</th>\n",
       "      <th>Flotation Column 07 Level</th>\n",
       "      <th>% Iron Concentrate</th>\n",
       "      <th>% Silica Concentrate</th>\n",
       "    </tr>\n",
       "  </thead>\n",
       "  <tbody>\n",
       "    <tr>\n",
       "      <th>0</th>\n",
       "      <td>2017-03-10 01:00:00</td>\n",
       "      <td>55,2</td>\n",
       "      <td>16,98</td>\n",
       "      <td>3019,53</td>\n",
       "      <td>557,434</td>\n",
       "      <td>395,713</td>\n",
       "      <td>10,0664</td>\n",
       "      <td>1,74</td>\n",
       "      <td>249,214</td>\n",
       "      <td>253,235</td>\n",
       "      <td>...</td>\n",
       "      <td>250,884</td>\n",
       "      <td>457,396</td>\n",
       "      <td>432,962</td>\n",
       "      <td>424,954</td>\n",
       "      <td>443,558</td>\n",
       "      <td>502,255</td>\n",
       "      <td>446,37</td>\n",
       "      <td>523,344</td>\n",
       "      <td>66,91</td>\n",
       "      <td>1,31</td>\n",
       "    </tr>\n",
       "    <tr>\n",
       "      <th>1</th>\n",
       "      <td>2017-03-10 01:00:00</td>\n",
       "      <td>55,2</td>\n",
       "      <td>16,98</td>\n",
       "      <td>3024,41</td>\n",
       "      <td>563,965</td>\n",
       "      <td>397,383</td>\n",
       "      <td>10,0672</td>\n",
       "      <td>1,74</td>\n",
       "      <td>249,719</td>\n",
       "      <td>250,532</td>\n",
       "      <td>...</td>\n",
       "      <td>248,994</td>\n",
       "      <td>451,891</td>\n",
       "      <td>429,56</td>\n",
       "      <td>432,939</td>\n",
       "      <td>448,086</td>\n",
       "      <td>496,363</td>\n",
       "      <td>445,922</td>\n",
       "      <td>498,075</td>\n",
       "      <td>66,91</td>\n",
       "      <td>1,31</td>\n",
       "    </tr>\n",
       "    <tr>\n",
       "      <th>2</th>\n",
       "      <td>2017-03-10 01:00:00</td>\n",
       "      <td>55,2</td>\n",
       "      <td>16,98</td>\n",
       "      <td>3043,46</td>\n",
       "      <td>568,054</td>\n",
       "      <td>399,668</td>\n",
       "      <td>10,068</td>\n",
       "      <td>1,74</td>\n",
       "      <td>249,741</td>\n",
       "      <td>247,874</td>\n",
       "      <td>...</td>\n",
       "      <td>248,071</td>\n",
       "      <td>451,24</td>\n",
       "      <td>468,927</td>\n",
       "      <td>434,61</td>\n",
       "      <td>449,688</td>\n",
       "      <td>484,411</td>\n",
       "      <td>447,826</td>\n",
       "      <td>458,567</td>\n",
       "      <td>66,91</td>\n",
       "      <td>1,31</td>\n",
       "    </tr>\n",
       "    <tr>\n",
       "      <th>3</th>\n",
       "      <td>2017-03-10 01:00:00</td>\n",
       "      <td>55,2</td>\n",
       "      <td>16,98</td>\n",
       "      <td>3047,36</td>\n",
       "      <td>568,665</td>\n",
       "      <td>397,939</td>\n",
       "      <td>10,0689</td>\n",
       "      <td>1,74</td>\n",
       "      <td>249,917</td>\n",
       "      <td>254,487</td>\n",
       "      <td>...</td>\n",
       "      <td>251,147</td>\n",
       "      <td>452,441</td>\n",
       "      <td>458,165</td>\n",
       "      <td>442,865</td>\n",
       "      <td>446,21</td>\n",
       "      <td>471,411</td>\n",
       "      <td>437,69</td>\n",
       "      <td>427,669</td>\n",
       "      <td>66,91</td>\n",
       "      <td>1,31</td>\n",
       "    </tr>\n",
       "    <tr>\n",
       "      <th>4</th>\n",
       "      <td>2017-03-10 01:00:00</td>\n",
       "      <td>55,2</td>\n",
       "      <td>16,98</td>\n",
       "      <td>3033,69</td>\n",
       "      <td>558,167</td>\n",
       "      <td>400,254</td>\n",
       "      <td>10,0697</td>\n",
       "      <td>1,74</td>\n",
       "      <td>250,203</td>\n",
       "      <td>252,136</td>\n",
       "      <td>...</td>\n",
       "      <td>248,928</td>\n",
       "      <td>452,441</td>\n",
       "      <td>452,9</td>\n",
       "      <td>450,523</td>\n",
       "      <td>453,67</td>\n",
       "      <td>462,598</td>\n",
       "      <td>443,682</td>\n",
       "      <td>425,679</td>\n",
       "      <td>66,91</td>\n",
       "      <td>1,31</td>\n",
       "    </tr>\n",
       "  </tbody>\n",
       "</table>\n",
       "<p>5 rows × 24 columns</p>\n",
       "</div>"
      ],
      "text/plain": [
       "                  date % Iron Feed % Silica Feed Starch Flow Amina Flow  \\\n",
       "0  2017-03-10 01:00:00        55,2         16,98     3019,53    557,434   \n",
       "1  2017-03-10 01:00:00        55,2         16,98     3024,41    563,965   \n",
       "2  2017-03-10 01:00:00        55,2         16,98     3043,46    568,054   \n",
       "3  2017-03-10 01:00:00        55,2         16,98     3047,36    568,665   \n",
       "4  2017-03-10 01:00:00        55,2         16,98     3033,69    558,167   \n",
       "\n",
       "  Ore Pulp Flow Ore Pulp pH Ore Pulp Density Flotation Column 01 Air Flow  \\\n",
       "0       395,713     10,0664             1,74                      249,214   \n",
       "1       397,383     10,0672             1,74                      249,719   \n",
       "2       399,668      10,068             1,74                      249,741   \n",
       "3       397,939     10,0689             1,74                      249,917   \n",
       "4       400,254     10,0697             1,74                      250,203   \n",
       "\n",
       "  Flotation Column 02 Air Flow  ... Flotation Column 07 Air Flow  \\\n",
       "0                      253,235  ...                      250,884   \n",
       "1                      250,532  ...                      248,994   \n",
       "2                      247,874  ...                      248,071   \n",
       "3                      254,487  ...                      251,147   \n",
       "4                      252,136  ...                      248,928   \n",
       "\n",
       "  Flotation Column 01 Level Flotation Column 02 Level  \\\n",
       "0                   457,396                   432,962   \n",
       "1                   451,891                    429,56   \n",
       "2                    451,24                   468,927   \n",
       "3                   452,441                   458,165   \n",
       "4                   452,441                     452,9   \n",
       "\n",
       "  Flotation Column 03 Level Flotation Column 04 Level  \\\n",
       "0                   424,954                   443,558   \n",
       "1                   432,939                   448,086   \n",
       "2                    434,61                   449,688   \n",
       "3                   442,865                    446,21   \n",
       "4                   450,523                    453,67   \n",
       "\n",
       "  Flotation Column 05 Level Flotation Column 06 Level  \\\n",
       "0                   502,255                    446,37   \n",
       "1                   496,363                   445,922   \n",
       "2                   484,411                   447,826   \n",
       "3                   471,411                    437,69   \n",
       "4                   462,598                   443,682   \n",
       "\n",
       "  Flotation Column 07 Level % Iron Concentrate % Silica Concentrate  \n",
       "0                   523,344              66,91                 1,31  \n",
       "1                   498,075              66,91                 1,31  \n",
       "2                   458,567              66,91                 1,31  \n",
       "3                   427,669              66,91                 1,31  \n",
       "4                   425,679              66,91                 1,31  \n",
       "\n",
       "[5 rows x 24 columns]"
      ]
     },
     "execution_count": 3,
     "metadata": {},
     "output_type": "execute_result"
    }
   ],
   "source": [
    "df.head()"
   ]
  },
  {
   "cell_type": "code",
   "execution_count": 4,
   "id": "c9b74a2d",
   "metadata": {},
   "outputs": [
    {
     "data": {
      "text/plain": [
       "Index(['date', '% Iron Feed', '% Silica Feed', 'Starch Flow', 'Amina Flow',\n",
       "       'Ore Pulp Flow', 'Ore Pulp pH', 'Ore Pulp Density',\n",
       "       'Flotation Column 01 Air Flow', 'Flotation Column 02 Air Flow',\n",
       "       'Flotation Column 03 Air Flow', 'Flotation Column 04 Air Flow',\n",
       "       'Flotation Column 05 Air Flow', 'Flotation Column 06 Air Flow',\n",
       "       'Flotation Column 07 Air Flow', 'Flotation Column 01 Level',\n",
       "       'Flotation Column 02 Level', 'Flotation Column 03 Level',\n",
       "       'Flotation Column 04 Level', 'Flotation Column 05 Level',\n",
       "       'Flotation Column 06 Level', 'Flotation Column 07 Level',\n",
       "       '% Iron Concentrate', '% Silica Concentrate'],\n",
       "      dtype='object')"
      ]
     },
     "execution_count": 4,
     "metadata": {},
     "output_type": "execute_result"
    }
   ],
   "source": [
    "df.columns"
   ]
  },
  {
   "cell_type": "markdown",
   "id": "00d31a30",
   "metadata": {},
   "source": [
    "#### Cleaning needed\n",
    "1. Convert date column to datetime object and Shorten column names\n",
    "2. Convert columns to float data type. For example, 55,2 to 55.2.\n",
    "3. Check for contextual outliers\n",
    "4. to be added........"
   ]
  },
  {
   "cell_type": "code",
   "execution_count": 5,
   "id": "ee32cbe3",
   "metadata": {},
   "outputs": [],
   "source": [
    "# 1. Convert date column to datetime object and Shorten column names\n",
    "df['date'] = pd.to_datetime(df['date'])\n",
    "df.columns = ['date', '%_iron_feed', '%_silica_feed', 'starch_flow', 'amina_flow',\n",
    "       'ore_pulp_flow', 'ore_pulp_pH', 'ore_pulp_density',\n",
    "       'FC1_air', 'FC2_air','FC3_air', 'FC4_air','FC5_air', 'FC6_air','FC7_air', \n",
    "       'FC1_level','FC2_level','FC3_level','FC4_level','FC5_level','FC6_level','FC7_level',\n",
    "       '%_iron_conc', '%_silica_conc']"
   ]
  },
  {
   "cell_type": "code",
   "execution_count": 6,
   "id": "2bd0fe5a",
   "metadata": {},
   "outputs": [],
   "source": [
    "# 2. Convert columns to float data type.\n",
    "for col in df.columns:\n",
    "    if col != 'date':\n",
    "        df[col] = df[col].apply(lambda x: float(x.replace(',', '.')))"
   ]
  },
  {
   "cell_type": "code",
   "execution_count": 8,
   "id": "394412e5",
   "metadata": {},
   "outputs": [],
   "source": [
    "# 3. Check for contextual outliers\n",
    "# Create function to check min/max after removing ','\n",
    "def check_min_max(col_name):\n",
    "    min_value = df[col_name].min()\n",
    "    max_value = df[col_name].max()\n",
    "    return min_value, max_value\n"
   ]
  },
  {
   "cell_type": "code",
   "execution_count": 9,
   "id": "c0997aef",
   "metadata": {},
   "outputs": [
    {
     "name": "stdout",
     "output_type": "stream",
     "text": [
      "%_iron_feed :  (42.74, 65.78)\n",
      "%_silica_feed :  (1.31, 33.4)\n",
      "starch_flow :  (0.00202596, 6300.23)\n",
      "amina_flow :  (241.669, 739.538)\n",
      "ore_pulp_flow :  (376.249, 418.641)\n",
      "ore_pulp_pH :  (8.75334, 10.8081)\n",
      "ore_pulp_density :  (1.51982, 1.85325)\n",
      "FC1_air :  (175.51, 373.871)\n",
      "FC2_air :  (175.156, 375.992)\n",
      "FC3_air :  (176.469, 364.346)\n",
      "FC4_air :  (292.195, 305.871)\n",
      "FC5_air :  (286.295, 310.27)\n",
      "FC6_air :  (189.928, 370.91)\n",
      "FC7_air :  (185.962, 371.593)\n",
      "FC1_level :  (149.218, 862.274)\n",
      "FC2_level :  (210.752, 828.919)\n",
      "FC3_level :  (126.255, 886.822)\n",
      "FC4_level :  (162.201, 680.359)\n",
      "FC5_level :  (166.991, 675.644)\n",
      "FC6_level :  (155.841, 698.861)\n",
      "FC7_level :  (175.349, 659.902)\n",
      "%_iron_conc :  (62.05, 68.01)\n",
      "%_silica_conc :  (0.6, 5.53)\n"
     ]
    }
   ],
   "source": [
    "# Check min/max value of each column to see if there's any incorrect entries\n",
    "for col in df.columns:\n",
    "    if col != 'date':\n",
    "        print(col, ': ', check_min_max(col))\n"
   ]
  },
  {
   "cell_type": "markdown",
   "id": "1846718c",
   "metadata": {},
   "source": [
    "data looks good"
   ]
  },
  {
   "cell_type": "markdown",
   "id": "6f96d260",
   "metadata": {},
   "source": [
    "# EDA\n",
    "* **Remove discontinuous data**"
   ]
  },
  {
   "cell_type": "code",
   "execution_count": 33,
   "id": "2063a4a2",
   "metadata": {},
   "outputs": [
    {
     "data": {
      "image/png": "[encoded data removed]",
      "text/plain": [
       "<Figure size 640x480 with 1 Axes>"
      ]
     },
     "metadata": {},
     "output_type": "display_data"
    }
   ],
   "source": [
    "plt.plot('date', '%_silica_conc', data=df);"
   ]
  },
  {
   "cell_type": "code",
   "execution_count": 27,
   "id": "e1679e94",
   "metadata": {},
   "outputs": [
    {
     "data": {
      "text/plain": [
       "26814    13.0\n",
       "Name: date, dtype: float64"
      ]
     },
     "execution_count": 27,
     "metadata": {},
     "output_type": "execute_result"
    }
   ],
   "source": [
    "# Find the data gap around late March\n",
    "df['date'].diff(periods=1).apply(lambda x: x.days).loc[lambda x:x>1]"
   ]
  },
  {
   "cell_type": "code",
   "execution_count": 32,
   "id": "0d628b30",
   "metadata": {},
   "outputs": [
    {
     "data": {
      "text/plain": [
       "(Timestamp('2017-03-29 12:00:00'), Timestamp('2017-03-16 05:00:00'))"
      ]
     },
     "execution_count": 32,
     "metadata": {},
     "output_type": "execute_result"
    }
   ],
   "source": [
    "df.loc[26814,'date'], df.loc[26813,'date']\n",
    "# The gap is between 3/16/17 and 3/29/17"
   ]
  },
  {
   "cell_type": "markdown",
   "id": "6392a06d",
   "metadata": {},
   "source": [
    "In order to simplify data analysis, we only use data after 3/29/2017 so that we have continuous data. Remove all data prior to that (row index 26814)."
   ]
  },
  {
   "cell_type": "code",
   "execution_count": 36,
   "id": "b2702a7f",
   "metadata": {},
   "outputs": [],
   "source": [
    "# df = df.loc[26814:,]\n",
    "# df.reset_index(drop=True, inplace=True)"
   ]
  },
  {
   "cell_type": "code",
   "execution_count": 87,
   "id": "787cb1d9",
   "metadata": {},
   "outputs": [
    {
     "data": {
      "image/png": "[encoded data removed]",
      "text/plain": [
       "<Figure size 640x480 with 1 Axes>"
      ]
     },
     "metadata": {},
     "output_type": "display_data"
    }
   ],
   "source": [
    "plt.plot('date', '%_silica_conc', data=df);"
   ]
  },
  {
   "cell_type": "markdown",
   "id": "8d2271fb",
   "metadata": {},
   "source": [
    "* **Smooth out data.**<br>\n",
    "Data is sampled every 20 seconds, but it's not captured in the data as the format is every hour. We need to \"smoothly\" change the date column to include the every 20 second details."
   ]
  },
  {
   "cell_type": "code",
   "execution_count": 56,
   "id": "5124d52a",
   "metadata": {
    "scrolled": false
   },
   "outputs": [
    {
     "data": {
      "text/html": [
       "<div>\n",
       "<style scoped>\n",
       "    .dataframe tbody tr th:only-of-type {\n",
       "        vertical-align: middle;\n",
       "    }\n",
       "\n",
       "    .dataframe tbody tr th {\n",
       "        vertical-align: top;\n",
       "    }\n",
       "\n",
       "    .dataframe thead th {\n",
       "        text-align: right;\n",
       "    }\n",
       "</style>\n",
       "<table border=\"1\" class=\"dataframe\">\n",
       "  <thead>\n",
       "    <tr style=\"text-align: right;\">\n",
       "      <th></th>\n",
       "      <th>date</th>\n",
       "      <th>%_iron_feed</th>\n",
       "      <th>%_silica_feed</th>\n",
       "      <th>starch_flow</th>\n",
       "      <th>amina_flow</th>\n",
       "      <th>ore_pulp_flow</th>\n",
       "      <th>ore_pulp_pH</th>\n",
       "      <th>ore_pulp_density</th>\n",
       "      <th>FC1_air</th>\n",
       "      <th>FC2_air</th>\n",
       "      <th>...</th>\n",
       "      <th>FC7_air</th>\n",
       "      <th>FC1_level</th>\n",
       "      <th>FC2_level</th>\n",
       "      <th>FC3_level</th>\n",
       "      <th>FC4_level</th>\n",
       "      <th>FC5_level</th>\n",
       "      <th>FC6_level</th>\n",
       "      <th>FC7_level</th>\n",
       "      <th>%_iron_conc</th>\n",
       "      <th>%_silica_conc</th>\n",
       "    </tr>\n",
       "  </thead>\n",
       "  <tbody>\n",
       "    <tr>\n",
       "      <th>0</th>\n",
       "      <td>2017-03-29 12:00:00</td>\n",
       "      <td>60.18</td>\n",
       "      <td>9.34</td>\n",
       "      <td>2044.99</td>\n",
       "      <td>349.911</td>\n",
       "      <td>405.625</td>\n",
       "      <td>9.74604</td>\n",
       "      <td>1.649650</td>\n",
       "      <td>200.393</td>\n",
       "      <td>195.734</td>\n",
       "      <td>...</td>\n",
       "      <td>251.002</td>\n",
       "      <td>555.264467</td>\n",
       "      <td>552.255566</td>\n",
       "      <td>614.984714</td>\n",
       "      <td>428.430</td>\n",
       "      <td>413.662</td>\n",
       "      <td>447.887</td>\n",
       "      <td>464.869</td>\n",
       "      <td>66.44</td>\n",
       "      <td>1.36</td>\n",
       "    </tr>\n",
       "    <tr>\n",
       "      <th>1</th>\n",
       "      <td>2017-03-29 12:00:20</td>\n",
       "      <td>60.18</td>\n",
       "      <td>9.34</td>\n",
       "      <td>2020.55</td>\n",
       "      <td>353.064</td>\n",
       "      <td>404.402</td>\n",
       "      <td>9.74169</td>\n",
       "      <td>1.643469</td>\n",
       "      <td>200.131</td>\n",
       "      <td>196.476</td>\n",
       "      <td>...</td>\n",
       "      <td>250.828</td>\n",
       "      <td>557.839933</td>\n",
       "      <td>554.531131</td>\n",
       "      <td>659.557429</td>\n",
       "      <td>431.146</td>\n",
       "      <td>422.308</td>\n",
       "      <td>444.326</td>\n",
       "      <td>463.224</td>\n",
       "      <td>66.44</td>\n",
       "      <td>1.36</td>\n",
       "    </tr>\n",
       "    <tr>\n",
       "      <th>2</th>\n",
       "      <td>2017-03-29 12:00:40</td>\n",
       "      <td>60.18</td>\n",
       "      <td>9.34</td>\n",
       "      <td>2012.84</td>\n",
       "      <td>356.217</td>\n",
       "      <td>403.180</td>\n",
       "      <td>9.73733</td>\n",
       "      <td>1.637289</td>\n",
       "      <td>199.869</td>\n",
       "      <td>197.219</td>\n",
       "      <td>...</td>\n",
       "      <td>250.653</td>\n",
       "      <td>560.415400</td>\n",
       "      <td>556.806697</td>\n",
       "      <td>704.130143</td>\n",
       "      <td>433.863</td>\n",
       "      <td>430.954</td>\n",
       "      <td>440.765</td>\n",
       "      <td>461.579</td>\n",
       "      <td>66.44</td>\n",
       "      <td>1.36</td>\n",
       "    </tr>\n",
       "    <tr>\n",
       "      <th>3</th>\n",
       "      <td>2017-03-29 12:01:00</td>\n",
       "      <td>60.18</td>\n",
       "      <td>9.34</td>\n",
       "      <td>2007.67</td>\n",
       "      <td>359.371</td>\n",
       "      <td>401.957</td>\n",
       "      <td>9.73298</td>\n",
       "      <td>1.631108</td>\n",
       "      <td>199.607</td>\n",
       "      <td>197.961</td>\n",
       "      <td>...</td>\n",
       "      <td>250.478</td>\n",
       "      <td>562.990867</td>\n",
       "      <td>559.082262</td>\n",
       "      <td>748.702857</td>\n",
       "      <td>436.580</td>\n",
       "      <td>439.600</td>\n",
       "      <td>437.204</td>\n",
       "      <td>459.935</td>\n",
       "      <td>66.44</td>\n",
       "      <td>1.36</td>\n",
       "    </tr>\n",
       "    <tr>\n",
       "      <th>4</th>\n",
       "      <td>2017-03-29 12:01:20</td>\n",
       "      <td>60.18</td>\n",
       "      <td>9.34</td>\n",
       "      <td>2003.92</td>\n",
       "      <td>362.524</td>\n",
       "      <td>400.735</td>\n",
       "      <td>9.72862</td>\n",
       "      <td>1.624928</td>\n",
       "      <td>199.345</td>\n",
       "      <td>198.703</td>\n",
       "      <td>...</td>\n",
       "      <td>250.304</td>\n",
       "      <td>565.566333</td>\n",
       "      <td>561.357828</td>\n",
       "      <td>793.275571</td>\n",
       "      <td>439.296</td>\n",
       "      <td>448.246</td>\n",
       "      <td>433.643</td>\n",
       "      <td>458.290</td>\n",
       "      <td>66.44</td>\n",
       "      <td>1.36</td>\n",
       "    </tr>\n",
       "  </tbody>\n",
       "</table>\n",
       "<p>5 rows × 24 columns</p>\n",
       "</div>"
      ],
      "text/plain": [
       "                 date  %_iron_feed  %_silica_feed  starch_flow  amina_flow  \\\n",
       "0 2017-03-29 12:00:00        60.18           9.34      2044.99     349.911   \n",
       "1 2017-03-29 12:00:20        60.18           9.34      2020.55     353.064   \n",
       "2 2017-03-29 12:00:40        60.18           9.34      2012.84     356.217   \n",
       "3 2017-03-29 12:01:00        60.18           9.34      2007.67     359.371   \n",
       "4 2017-03-29 12:01:20        60.18           9.34      2003.92     362.524   \n",
       "\n",
       "   ore_pulp_flow  ore_pulp_pH  ore_pulp_density  FC1_air  FC2_air  ...  \\\n",
       "0        405.625      9.74604          1.649650  200.393  195.734  ...   \n",
       "1        404.402      9.74169          1.643469  200.131  196.476  ...   \n",
       "2        403.180      9.73733          1.637289  199.869  197.219  ...   \n",
       "3        401.957      9.73298          1.631108  199.607  197.961  ...   \n",
       "4        400.735      9.72862          1.624928  199.345  198.703  ...   \n",
       "\n",
       "   FC7_air   FC1_level   FC2_level   FC3_level  FC4_level  FC5_level  \\\n",
       "0  251.002  555.264467  552.255566  614.984714    428.430    413.662   \n",
       "1  250.828  557.839933  554.531131  659.557429    431.146    422.308   \n",
       "2  250.653  560.415400  556.806697  704.130143    433.863    430.954   \n",
       "3  250.478  562.990867  559.082262  748.702857    436.580    439.600   \n",
       "4  250.304  565.566333  561.357828  793.275571    439.296    448.246   \n",
       "\n",
       "   FC6_level  FC7_level  %_iron_conc  %_silica_conc  \n",
       "0    447.887    464.869        66.44           1.36  \n",
       "1    444.326    463.224        66.44           1.36  \n",
       "2    440.765    461.579        66.44           1.36  \n",
       "3    437.204    459.935        66.44           1.36  \n",
       "4    433.643    458.290        66.44           1.36  \n",
       "\n",
       "[5 rows x 24 columns]"
      ]
     },
     "execution_count": 56,
     "metadata": {},
     "output_type": "execute_result"
    }
   ],
   "source": [
    "# add a helper column to indicate time need to be added from date column\n",
    "df['date'] = df['date'] + df.index.to_series().apply(lambda x:(x % 180) * pd.to_timedelta(20, unit='s'))\n",
    "df.head()"
   ]
  },
  {
   "cell_type": "markdown",
   "id": "be731c71",
   "metadata": {},
   "source": [
    "# Analysis\n",
    "- Start with linear regression\n",
    "- Try 1-10 hour delay and see optimal delay"
   ]
  },
  {
   "cell_type": "markdown",
   "id": "1211c6dc",
   "metadata": {},
   "source": [
    "## Linear Regression"
   ]
  },
  {
   "cell_type": "code",
   "execution_count": 81,
   "id": "91735abb",
   "metadata": {},
   "outputs": [
    {
     "data": {
      "text/plain": [
       "0.36009344754933603"
      ]
     },
     "execution_count": 81,
     "metadata": {},
     "output_type": "execute_result"
    }
   ],
   "source": [
    "# Create shifts and apply linear regression\n",
    "def shift_lr(data, hr_delay):\n",
    "    # import modules\n",
    "    from sklearn.model_selection import train_test_split\n",
    "    from sklearn.linear_model import LinearRegression\n",
    "    # Create copy of dataframe\n",
    "    shift_df = data.copy()\n",
    "    # Shift response variable and drop na rows\n",
    "    shift_df['%_silica_conc'] = shift_df['%_silica_conc'].shift(-hr_delay*180)\n",
    "    shift_df.dropna(inplace=True)\n",
    "    # Train/test split\n",
    "    y = shift_df['%_silica_conc']\n",
    "    X = shift_df.drop(columns=['date', '%_silica_conc'])\n",
    "    X_train, X_test, y_train, y_test = train_test_split(X, y, test_size=0.33, random_state=42)\n",
    "    # Create linear regression model\n",
    "    reg = LinearRegression().fit(X_train, y_train)\n",
    "    r_sq = reg.score(X_test, y_test)\n",
    "    return r_sq\n",
    "shift_lr(df, 2)"
   ]
  },
  {
   "cell_type": "code",
   "execution_count": 92,
   "id": "194d674a",
   "metadata": {},
   "outputs": [
    {
     "data": {
      "image/png": "[encoded data removed]",
      "text/plain": [
       "<Figure size 640x480 with 1 Axes>"
      ]
     },
     "metadata": {},
     "output_type": "display_data"
    }
   ],
   "source": [
    "time = [i for i in range(11)]\n",
    "r_sq = []\n",
    "for i in time:\n",
    "    r_sq.append(shift_lr(df, i))\n",
    "plt.plot(time, r_sq);\n",
    "plt.xlabel('Time delay');\n",
    "plt.ylabel('R2 value');\n",
    "plt.title('Linear Regression Model vs. Time Delay');"
   ]
  },
  {
   "cell_type": "markdown",
   "id": "65edbf05",
   "metadata": {},
   "source": [
    "From above, we can see that the longer the shift the harder it is to predict % Silica in Concentrate."
   ]
  },
  {
   "cell_type": "code",
   "execution_count": null,
   "id": "8ac0b5f4",
   "metadata": {},
   "outputs": [],
   "source": []
  }
 ],
 "metadata": {
  "kernelspec": {
   "display_name": "Python 3 (ipykernel)",
   "language": "python",
   "name": "python3"
  },
  "language_info": {
   "codemirror_mode": {
    "name": "ipython",
    "version": 3
   },
   "file_extension": ".py",
   "mimetype": "text/x-python",
   "name": "python",
   "nbconvert_exporter": "python",
   "pygments_lexer": "ipython3",
   "version": "3.7.16"
  }
 },
 "nbformat": 4,
 "nbformat_minor": 5
}
